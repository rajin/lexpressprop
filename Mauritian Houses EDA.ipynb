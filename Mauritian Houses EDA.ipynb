{
 "cells": [
  {
   "cell_type": "code",
   "execution_count": 2,
   "id": "0c0b64d2",
   "metadata": {},
   "outputs": [],
   "source": [
    "import pandas as pd\n",
    "import numpy as np\n",
    "\n",
    "import matplotlib.pyplot as plt\n",
    "import seaborn as sns\n",
    "import scipy.stats as stats\n",
    "\n",
    "pd.pandas.set_option('display.max_columns', None)"
   ]
  },
  {
   "cell_type": "markdown",
   "id": "6b7ba5cd",
   "metadata": {},
   "source": [
    "Notebook to explore the Mauritian Housing dataset and how analyse each variable that was collected as well."
   ]
  },
  {
   "cell_type": "code",
   "execution_count": 109,
   "id": "3968be39",
   "metadata": {},
   "outputs": [
    {
     "data": {
      "text/plain": [
       "Index(['htype', 'region', 'Project Type', 'Bedroom(s)', 'Bathroom(s)',\n",
       "       'Swimming Pool', 'Parking', 'Toilet(s)', 'Construction Year', 'Garage',\n",
       "       'Nb. Rooms', 'Air-con', 'Beachfront', 'Interior Surface New',\n",
       "       'Land Surface New', 'Access for Disabled People', 'Access to rooftop',\n",
       "       'Air Conditioning', 'Alarm System', 'Automated Garage', 'Balcony',\n",
       "       'Basement', 'Carport', 'Centralized Ventilation System',\n",
       "       'Close to Bus Stop', 'Close to Golf Course', 'Close to Hospital',\n",
       "       'Close to School', 'Close to Shops', 'Cooking Service', 'Dressing',\n",
       "       'Electric Generator', 'Energy Efficiency - High', 'Fenced',\n",
       "       'Fire Alarm System', 'Fireplace', 'Fitness Room', 'Freehold Land',\n",
       "       'Furnished', 'Garden', 'Guarded Parking', 'House Cleaning',\n",
       "       'Indoor Spa', 'Internet/Wi-Fi', 'Laundry Room', 'Lift',\n",
       "       'Located in a private morcellement', 'Located in a residential complex',\n",
       "       'Located in a senior residence', 'Mountain View', 'Office',\n",
       "       'Recently Refurbished', 'River View', 'Sea Access', 'Sea View',\n",
       "       'Secured Parking', 'Security Bars', 'Sewage System', 'Solar Panels',\n",
       "       'Solar Water Heater', 'Soundproof', 'TV Room', 'Tennis Court',\n",
       "       'Veranda', 'Watchman', 'Water Heater', 'Water Tank', 'Yard', 'price'],\n",
       "      dtype='object')"
      ]
     },
     "execution_count": 109,
     "metadata": {},
     "output_type": "execute_result"
    }
   ],
   "source": [
    "data = pd.read_csv('Mauritian_houses_cleaned.csv')\n",
    "data.columns"
   ]
  },
  {
   "cell_type": "code",
   "execution_count": 110,
   "id": "668c0db2",
   "metadata": {},
   "outputs": [
    {
     "data": {
      "text/plain": [
       "0        37,839,628\n",
       "1        85,100,000\n",
       "2        54,000,000\n",
       "3       102,900,000\n",
       "4        18,745,020\n",
       "           ...     \n",
       "6579      7,500,000\n",
       "6580      5,200,000\n",
       "6581      7,000,000\n",
       "6582     47,822,999\n",
       "6583     49,466,700\n",
       "Name: price, Length: 6584, dtype: object"
      ]
     },
     "execution_count": 110,
     "metadata": {},
     "output_type": "execute_result"
    }
   ],
   "source": [
    "data['price'] = data['price'].replace(['Price N/D'],'0')\n",
    "data['price']"
   ]
  },
  {
   "cell_type": "markdown",
   "id": "58241392",
   "metadata": {},
   "source": [
    "converting price strings into float values and also removing not disclosed prices out of the dataframe"
   ]
  },
  {
   "cell_type": "code",
   "execution_count": 111,
   "id": "d36b46f2",
   "metadata": {},
   "outputs": [],
   "source": [
    "data['price'] = data['price'].str.replace(',', '').astype(float)\n",
    "data = data[data['price']!=0]"
   ]
  },
  {
   "cell_type": "code",
   "execution_count": 112,
   "id": "61bbc283",
   "metadata": {},
   "outputs": [
    {
     "data": {
      "image/png": "[encoded data removed]",
      "text/plain": [
       "<Figure size 864x432 with 1 Axes>"
      ]
     },
     "metadata": {
      "needs_background": "light"
     },
     "output_type": "display_data"
    }
   ],
   "source": [
    "plt.figure(figsize=(12,6))\n",
    "plt.hist(data['price']/1000000,bins=25)\n",
    "plt.ylabel('# of houses')\n",
    "plt.xlabel('Price in Millions Rs')\n",
    "plt.show()"
   ]
  },
  {
   "cell_type": "code",
   "execution_count": 113,
   "id": "3bd460a6",
   "metadata": {},
   "outputs": [
    {
     "data": {
      "image/png": "[encoded data removed]",
      "text/plain": [
       "<Figure size 864x432 with 1 Axes>"
      ]
     },
     "metadata": {
      "needs_background": "light"
     },
     "output_type": "display_data"
    }
   ],
   "source": [
    "data = data[data['price']>data['price'].min()]\n",
    "data_dum = data[data['price']<100000000]\n",
    "\n",
    "plt.figure(figsize=(12,6))\n",
    "plt.hist(data_dum['price']/1000000,bins=50)\n",
    "plt.ylabel('# of houses')\n",
    "plt.xlabel('Price in Millions Rs')\n",
    "plt.show()"
   ]
  },
  {
   "cell_type": "code",
   "execution_count": 114,
   "id": "5e63060e",
   "metadata": {},
   "outputs": [
    {
     "data": {
      "image/png": "[encoded data removed]",
      "text/plain": [
       "<Figure size 864x432 with 1 Axes>"
      ]
     },
     "metadata": {
      "needs_background": "light"
     },
     "output_type": "display_data"
    }
   ],
   "source": [
    "plt.figure(figsize=(12,6))\n",
    "plt.hist(np.log(data['price']),bins=100)\n",
    "plt.ylabel('# of houses')\n",
    "plt.xlabel('log(Price in Rs)')\n",
    "plt.show()"
   ]
  },
  {
   "cell_type": "markdown",
   "id": "db26c560",
   "metadata": {},
   "source": [
    "Creating a list of categorical and numerical variables"
   ]
  },
  {
   "cell_type": "code",
   "execution_count": 69,
   "id": "eefb065e",
   "metadata": {},
   "outputs": [
    {
     "data": {
      "text/plain": [
       "['htype',\n",
       " 'region',\n",
       " 'Project Type',\n",
       " 'Swimming Pool',\n",
       " 'Parking',\n",
       " 'Garage',\n",
       " 'Beachfront',\n",
       " 'Access for Disabled People',\n",
       " 'Access to rooftop',\n",
       " 'Air Conditioning',\n",
       " 'Alarm System',\n",
       " 'Automated Garage',\n",
       " 'Balcony',\n",
       " 'Basement',\n",
       " 'Carport',\n",
       " 'Centralized Ventilation System',\n",
       " 'Close to Bus Stop',\n",
       " 'Close to Golf Course',\n",
       " 'Close to Hospital',\n",
       " 'Close to School',\n",
       " 'Close to Shops',\n",
       " 'Cooking Service',\n",
       " 'Dressing',\n",
       " 'Electric Generator',\n",
       " 'Energy Efficiency - High',\n",
       " 'Fenced',\n",
       " 'Fire Alarm System',\n",
       " 'Fireplace',\n",
       " 'Fitness Room',\n",
       " 'Freehold Land',\n",
       " 'Furnished',\n",
       " 'Garden',\n",
       " 'Guarded Parking',\n",
       " 'House Cleaning',\n",
       " 'Indoor Spa',\n",
       " 'Internet/Wi-Fi',\n",
       " 'Laundry Room',\n",
       " 'Lift',\n",
       " 'Located in a private morcellement',\n",
       " 'Located in a residential complex',\n",
       " 'Located in a senior residence',\n",
       " 'Mountain View',\n",
       " 'Office',\n",
       " 'Recently Refurbished',\n",
       " 'River View',\n",
       " 'Sea Access',\n",
       " 'Sea View',\n",
       " 'Secured Parking',\n",
       " 'Security Bars',\n",
       " 'Sewage System',\n",
       " 'Solar Panels',\n",
       " 'Solar Water Heater',\n",
       " 'Soundproof',\n",
       " 'TV Room',\n",
       " 'Tennis Court',\n",
       " 'Veranda',\n",
       " 'Watchman',\n",
       " 'Water Heater',\n",
       " 'Water Tank',\n",
       " 'Yard']"
      ]
     },
     "execution_count": 69,
     "metadata": {},
     "output_type": "execute_result"
    }
   ],
   "source": [
    "categorical_vars = [var for var in data.columns if data[var].dtype == 'O']\n",
    "categorical_vars"
   ]
  },
  {
   "cell_type": "code",
   "execution_count": 70,
   "id": "13fbdb64",
   "metadata": {},
   "outputs": [
    {
     "data": {
      "text/plain": [
       "['Bedroom(s)',\n",
       " 'Bathroom(s)',\n",
       " 'Toilet(s)',\n",
       " 'Construction Year',\n",
       " 'Nb. Rooms',\n",
       " 'Air-con',\n",
       " 'Interior Surface New',\n",
       " 'Land Surface New']"
      ]
     },
     "execution_count": 70,
     "metadata": {},
     "output_type": "execute_result"
    }
   ],
   "source": [
    "numerical_vars = [var for var in data.columns if var not in cat_vars and var != 'price']\n",
    "numerical_vars"
   ]
  },
  {
   "cell_type": "code",
   "execution_count": 127,
   "id": "b785e6d3",
   "metadata": {},
   "outputs": [
    {
     "data": {
      "text/plain": [
       "Text(0, 0.5, 'Price')"
      ]
     },
     "execution_count": 127,
     "metadata": {},
     "output_type": "execute_result"
    },
    {
     "data": {
      "image/png": "[encoded data removed]",
      "text/plain": [
       "<Figure size 864x1008 with 8 Axes>"
      ]
     },
     "metadata": {
      "needs_background": "light"
     },
     "output_type": "display_data"
    }
   ],
   "source": [
    "fig, ((ax1, ax2), (ax3, ax4),(ax5, ax6), (ax7, ax8)) = plt.subplots(4,2,figsize=(12,14))\n",
    "ax1.scatter(data['Bedroom(s)'],data['price'])\n",
    "ax1.set_xlabel('# Bedrooms')\n",
    "ax1.set_ylabel('Price')\n",
    "\n",
    "ax2.scatter(data['Bathroom(s)'],data['price'])\n",
    "ax2.set_xlabel('# Bathrooms')\n",
    "ax2.set_ylabel('Price')\n",
    "ax2.set_xlim([0,13])\n",
    "\n",
    "ax3.scatter(data['Toilet(s)'],data['price'])\n",
    "ax3.set_xlabel('# Toilet')\n",
    "ax3.set_ylabel('Price')\n",
    "\n",
    "ax4.scatter(data['Construction Year'],data['price'])\n",
    "ax4.set_xlabel('Construction Year')\n",
    "ax4.set_ylabel('Price')\n",
    "ax4.set_xlim([1930,2024])\n",
    "\n",
    "ax5.scatter(data['Nb. Rooms'],data['price'])\n",
    "ax5.set_xlabel('Nb. Rooms')\n",
    "ax5.set_ylabel('Price')\n",
    "#ax5.set_xlim([1950,2024])\n",
    "\n",
    "ax6.scatter(data['Air-con'],data['price'])\n",
    "ax6.set_xlabel('Air-con')\n",
    "ax6.set_ylabel('Price')\n",
    "#ax6.set_xlim([1950,2024])\n",
    "\n",
    "ax7.scatter(data['Interior Surface New'],data['price'])\n",
    "ax7.set_xlabel('Interior Surface $m^2$')\n",
    "ax7.set_ylabel('Price')\n",
    "#ax7.set_xlim([1950,2024])\n",
    "\n",
    "ax8.scatter(data['Land Surface New'],data['price'])\n",
    "ax8.set_xlabel('Land Surface $m^2$')\n",
    "ax8.set_ylabel('Price')\n",
    "#ax8.set_xlim([1950,2024])"
   ]
  },
  {
   "cell_type": "code",
   "execution_count": 86,
   "id": "398c0902",
   "metadata": {},
   "outputs": [
    {
     "data": {
      "image/png": "[encoded data removed]",
      "text/plain": [
       "<Figure size 864x432 with 1 Axes>"
      ]
     },
     "metadata": {
      "needs_background": "light"
     },
     "output_type": "display_data"
    }
   ],
   "source": [
    "plt.figure(figsize=(12,6))\n",
    "plt.scatter(data['Interior Surface New'],data['price'])\n",
    "plt.xlabel('Interior Surface $m^2$')\n",
    "plt.ylabel('Price')\n",
    "plt.show()"
   ]
  },
  {
   "cell_type": "code",
   "execution_count": 88,
   "id": "e77be25b",
   "metadata": {},
   "outputs": [
    {
     "data": {
      "image/png": "[encoded data removed]",
      "text/plain": [
       "<Figure size 864x432 with 1 Axes>"
      ]
     },
     "metadata": {
      "needs_background": "light"
     },
     "output_type": "display_data"
    }
   ],
   "source": [
    "plt.figure(figsize=(12,6))\n",
    "plt.scatter(data['Land Surface New'],data['price'])\n",
    "plt.xlabel('Land Surface $m^2$')\n",
    "plt.ylabel('Price')\n",
    "plt.xlim([0,15000])\n",
    "plt.show()"
   ]
  },
  {
   "cell_type": "code",
   "execution_count": 104,
   "id": "7a4d8cbe",
   "metadata": {},
   "outputs": [],
   "source": [
    "def strip(a):\n",
    "    return a.strip()\n",
    "data['region'] = data['region'].apply(strip)"
   ]
  },
  {
   "cell_type": "code",
   "execution_count": 115,
   "id": "5191c169",
   "metadata": {},
   "outputs": [],
   "source": [
    "def main_region(a):\n",
    "    return (a.split(',')[-1]).strip()\n",
    "data['region_main'] = data['region'].apply(main_region)\n",
    "\n",
    "def local_region(a):\n",
    "    return (a.split(',')[0]).strip()\n",
    "data['region'] = data['region'].apply(local_region)"
   ]
  },
  {
   "cell_type": "code",
   "execution_count": 116,
   "id": "58024e5f",
   "metadata": {},
   "outputs": [
    {
     "data": {
      "text/plain": [
       "0         St Antoine\n",
       "1         Bain Boeuf\n",
       "2         Haute Rive\n",
       "3        Black River\n",
       "4          Péreybère\n",
       "            ...     \n",
       "6579     Tombeau Bay\n",
       "6580    Flic en Flac\n",
       "6581     Tombeau Bay\n",
       "6582      Beau Champ\n",
       "6583         Tamarin\n",
       "Name: region, Length: 6506, dtype: object"
      ]
     },
     "execution_count": 116,
     "metadata": {},
     "output_type": "execute_result"
    }
   ],
   "source": [
    "data['region']"
   ]
  },
  {
   "cell_type": "code",
   "execution_count": 117,
   "id": "06542eab",
   "metadata": {},
   "outputs": [
    {
     "data": {
      "text/plain": [
       "region\n",
       "Albion                      8500000.0\n",
       "Amitié                     13200000.0\n",
       "Anse Jonchée               45000000.0\n",
       "Argy                       10000000.0\n",
       "Arsenal                     8000000.0\n",
       "Bagatelle                  16400000.0\n",
       "Baie aux Tortues           11000000.0\n",
       "Baie du Cap                30762512.0\n",
       "Bain Boeuf                 13500000.0\n",
       "Balaclava                  23000000.0\n",
       "Bambous                     4400000.0\n",
       "Bar le Duc                 13000000.0\n",
       "Bassin                      5600000.0\n",
       "Beau Bassin                 6000000.0\n",
       "Beau Champ                 76354921.0\n",
       "Beau Plan                  10500000.0\n",
       "Beau Vallon                 9225000.0\n",
       "Beaux Songes               16000000.0\n",
       "Bel Ombre                  76540940.0\n",
       "Belle Mare                 97439500.0\n",
       "Belle Rose (Centre)         6300000.0\n",
       "Belle Rose (Est)            4707000.0\n",
       "Belle Vue Harel            26500000.0\n",
       "Belle Vue Maurel           14500000.0\n",
       "Belle Étoile                3100000.0\n",
       "Black River                32000000.0\n",
       "Blue Bay                   16000000.0\n",
       "Bois Chéri                  9000000.0\n",
       "Bon Espoir                 29950000.0\n",
       "Bramsthan                   4350000.0\n",
       "Bras d'Eau                 16000000.0\n",
       "Calodyne                   13250000.0\n",
       "Camp Fouquereau             5600000.0\n",
       "Candos                      6500000.0\n",
       "Canot                       3425000.0\n",
       "Cap Malheureux             24814649.0\n",
       "Cascavelle                 18296500.0\n",
       "Castel                      6700000.0\n",
       "Chamarel                  170200000.0\n",
       "Chemin Grenier             12500000.0\n",
       "Coromandel                  6000000.0\n",
       "Crève Coeur                 5800000.0\n",
       "Curepipe                    6300000.0\n",
       "Côte d'Or                  14900000.0\n",
       "Dagotière                   3700000.0\n",
       "Eau Coulée                  7850000.0\n",
       "Ebène                       4800000.0\n",
       "Flacq                       7900000.0\n",
       "Flic en Flac                6800000.0\n",
       "Floréal                    14500000.0\n",
       "Fond du Sac                 3500000.0\n",
       "Forest Side                 6300000.0\n",
       "Forêt Daruty               28300000.0\n",
       "Goodlands                   7750000.0\n",
       "Grand Bay                  20000000.0\n",
       "Grand Bois                  6500000.0\n",
       "Grand Gaube                24000000.0\n",
       "Grand River South East      8500000.0\n",
       "Grande Rivière Noire       15500000.0\n",
       "Gris Gris                   8800000.0\n",
       "Gros Bois                  28750000.0\n",
       "Haute Rive                 24679000.0\n",
       "Helvetia                    6150000.0\n",
       "Henrietta                   4200000.0\n",
       "Hermitage                   8500000.0\n",
       "Highlands                   9000000.0\n",
       "Ilot Fortier               39673800.0\n",
       "L'Aventure                  2500000.0\n",
       "L'Escalier                  3200000.0\n",
       "La Cambuse                 22445000.0\n",
       "La Caverne                  3950000.0\n",
       "La Gaulette                 8500000.0\n",
       "La Louise                   5800000.0\n",
       "La Marie                    6900000.0\n",
       "La Mivoie                  14000000.0\n",
       "La Preneuse                21050000.0\n",
       "La Tour Koenig              4500000.0\n",
       "Lallmatie                  10000000.0\n",
       "Le Bouchon                 19400000.0\n",
       "Le Goulet                  16500000.0\n",
       "Le Morne                   29000000.0\n",
       "Long Mountain               4500000.0\n",
       "Mahébourg                   7000000.0\n",
       "Mapou                      35000000.0\n",
       "Mare Longue                 6000000.0\n",
       "Mare d'Albert               1900000.0\n",
       "Melville                   14905500.0\n",
       "Midlands                   20000000.0\n",
       "Moka                       15000000.0\n",
       "Mon Choisy                 23000000.0\n",
       "Mon Loisir                  8500000.0\n",
       "Mont Fertile                3775000.0\n",
       "Mont Mascal                35000000.0\n",
       "Mont Piton                 30000000.0\n",
       "Montagne Ory                4350000.0\n",
       "New Grove                   8400000.0\n",
       "Notre Dame                  5900000.0\n",
       "Pailles                     4050000.0\n",
       "Palma                       7550000.0\n",
       "Palmar                     19200000.0\n",
       "Pamplemousses               7000000.0\n",
       "Pavillon                    7500000.0\n",
       "Petit Camp                  9100000.0\n",
       "Petit Raffray              16000000.0\n",
       "Petite Rivière              2690000.0\n",
       "Petite Rivière Noire       36086763.0\n",
       "Phoenix                     8590000.0\n",
       "Pierrefonds                18500000.0\n",
       "Piton                      11750000.0\n",
       "Plaine Lauzun               2000000.0\n",
       "Plaine Magnien             18000000.0\n",
       "Pointe aux Biches          16500000.0\n",
       "Pointe aux Canonniers      17600000.0\n",
       "Pointe aux Piments         17577000.0\n",
       "Pointe aux Sables           8500000.0\n",
       "Pointe d'Esny              22500000.0\n",
       "Pomponnette                15500000.0\n",
       "Port Louis                  5700000.0\n",
       "Poste Lafayette            17000000.0\n",
       "Poste de Flacq              7750000.0\n",
       "Péreybère                  13700000.0\n",
       "Quartier Militaire          8150000.0\n",
       "Quatre Bornes               7000000.0\n",
       "Riambel                    15000000.0\n",
       "Riche Terre                 4800000.0\n",
       "Rivière des Créoles         4000000.0\n",
       "Rivière du Rempart          3300000.0\n",
       "Roches Brunes               7600000.0\n",
       "Roches Noires               6850000.0\n",
       "Rodrigues                  14000000.0\n",
       "Rose Belle                  3800000.0\n",
       "Rose Hill                   6000000.0\n",
       "Réunion                     2250000.0\n",
       "Sodnac                      7300000.0\n",
       "Solitude                    5700000.0\n",
       "Sorèze                     15800000.0\n",
       "Sottise                     6500000.0\n",
       "Souillac                   30000000.0\n",
       "St Antoine                 22411250.0\n",
       "St François                14250000.0\n",
       "St Félix                    9800000.0\n",
       "St Jean                     5990000.0\n",
       "St Julien d'Hotman          3700000.0\n",
       "St Pierre                  15000000.0\n",
       "Stanley                     4200000.0\n",
       "Surinam                     4350000.0\n",
       "Sébastopol                  2500000.0\n",
       "Tamarin                    23050000.0\n",
       "Terre Rouge                 4900000.0\n",
       "The Mount                   6125000.0\n",
       "The Vale                   13500000.0\n",
       "Tombeau Bay                 6500000.0\n",
       "Trianon                     7300000.0\n",
       "Triolet                     7500000.0\n",
       "Trou aux Biches            19700650.0\n",
       "Trou d'Eau Douce           31000000.0\n",
       "Union Park                  3300000.0\n",
       "Vacoas                      8200000.0\n",
       "Verdun                      5800000.0\n",
       "Vieux Grand Port           70000000.0\n",
       "Wolmar                     30000000.0\n",
       "Wooton                     13000000.0\n",
       "d'Epinay                   30000000.0\n",
       "Name: price, dtype: float64"
      ]
     },
     "execution_count": 117,
     "metadata": {},
     "output_type": "execute_result"
    }
   ],
   "source": [
    "pd.set_option('display.max_rows',500)\n",
    "data.groupby('region')['price'].median()"
   ]
  },
  {
   "cell_type": "code",
   "execution_count": 118,
   "id": "f1723c02",
   "metadata": {},
   "outputs": [
    {
     "data": {
      "text/plain": [
       "region_main\n",
       "Center        7700000.0\n",
       "East         57221919.0\n",
       "North        17665694.0\n",
       "Rodrigues    14000000.0\n",
       "South        26500000.0\n",
       "West         17990000.0\n",
       "Name: price, dtype: float64"
      ]
     },
     "execution_count": 118,
     "metadata": {},
     "output_type": "execute_result"
    }
   ],
   "source": [
    "data.groupby('region_main')['price'].median()"
   ]
  },
  {
   "cell_type": "code",
   "execution_count": 119,
   "id": "610bc6e6",
   "metadata": {},
   "outputs": [
    {
     "data": {
      "text/plain": [
       "Project Type\n",
       "G+2                    13337779.0\n",
       "IRS                    57442500.0\n",
       "Other                  29200000.0\n",
       "PDS                    32000000.0\n",
       "RES                    28665000.0\n",
       "Residential Project     7500000.0\n",
       "Senior Residences      11700000.0\n",
       "Smart City             15500000.0\n",
       "none                    9900000.0\n",
       "Name: price, dtype: float64"
      ]
     },
     "execution_count": 119,
     "metadata": {},
     "output_type": "execute_result"
    }
   ],
   "source": [
    "data.groupby('Project Type')['price'].median()"
   ]
  },
  {
   "cell_type": "markdown",
   "id": "5b8ea7fe",
   "metadata": {},
   "source": [
    "Looking for variables with a lot of empty/missing values and listing the fraction of missing values"
   ]
  },
  {
   "cell_type": "code",
   "execution_count": 123,
   "id": "f4ae4f65",
   "metadata": {},
   "outputs": [
    {
     "data": {
      "text/plain": [
       "Beachfront              0.887335\n",
       "Air-con                 0.834614\n",
       "Nb. Rooms               0.751921\n",
       "Construction Year       0.643867\n",
       "Land Surface New        0.507685\n",
       "Toilet(s)               0.458500\n",
       "Parking                 0.376268\n",
       "Swimming Pool           0.269136\n",
       "Bathroom(s)             0.090532\n",
       "Interior Surface New    0.058869\n",
       "dtype: float64"
      ]
     },
     "execution_count": 123,
     "metadata": {},
     "output_type": "execute_result"
    }
   ],
   "source": [
    "\n",
    "missing_vars = [var for var in data.columns if data[var].isnull().sum() > 0]\n",
    "\n",
    "data[missing_vars].isnull().mean().sort_values(ascending=False)"
   ]
  },
  {
   "cell_type": "code",
   "execution_count": 126,
   "id": "b661088b",
   "metadata": {},
   "outputs": [
    {
     "data": {
      "image/png": "[encoded data removed]",
      "text/plain": [
       "<Figure size 432x288 with 1 Axes>"
      ]
     },
     "metadata": {
      "needs_background": "light"
     },
     "output_type": "display_data"
    },
    {
     "data": {
      "image/png": "[encoded data removed]",
      "text/plain": [
       "<Figure size 432x288 with 1 Axes>"
      ]
     },
     "metadata": {
      "needs_background": "light"
     },
     "output_type": "display_data"
    },
    {
     "data": {
      "image/png": "[encoded data removed]",
      "text/plain": [
       "<Figure size 432x288 with 1 Axes>"
      ]
     },
     "metadata": {
      "needs_background": "light"
     },
     "output_type": "display_data"
    },
    {
     "data": {
      "image/png": "[encoded data removed]",
      "text/plain": [
       "<Figure size 432x288 with 1 Axes>"
      ]
     },
     "metadata": {
      "needs_background": "light"
     },
     "output_type": "display_data"
    },
    {
     "data": {
      "image/png": "[encoded data removed]",
      "text/plain": [
       "<Figure size 432x288 with 1 Axes>"
      ]
     },
     "metadata": {
      "needs_background": "light"
     },
     "output_type": "display_data"
    },
    {
     "data": {
      "image/png": "[encoded data removed]",
      "text/plain": [
       "<Figure size 432x288 with 1 Axes>"
      ]
     },
     "metadata": {
      "needs_background": "light"
     },
     "output_type": "display_data"
    },
    {
     "data": {
      "image/png": "[encoded data removed]",
      "text/plain": [
       "<Figure size 432x288 with 1 Axes>"
      ]
     },
     "metadata": {
      "needs_background": "light"
     },
     "output_type": "display_data"
    },
    {
     "data": {
      "image/png": "[encoded data removed]",
      "text/plain": [
       "<Figure size 432x288 with 1 Axes>"
      ]
     },
     "metadata": {
      "needs_background": "light"
     },
     "output_type": "display_data"
    },
    {
     "data": {
      "image/png": "[encoded data removed]",
      "text/plain": [
       "<Figure size 432x288 with 1 Axes>"
      ]
     },
     "metadata": {
      "needs_background": "light"
     },
     "output_type": "display_data"
    },
    {
     "data": {
      "image/png": "[encoded data removed]",
      "text/plain": [
       "<Figure size 432x288 with 1 Axes>"
      ]
     },
     "metadata": {
      "needs_background": "light"
     },
     "output_type": "display_data"
    }
   ],
   "source": [
    "def analyse_na_value(df, var):\n",
    "\n",
    "    df = df.copy()\n",
    "    df[var] = np.where(df[var].isnull(), 1, 0)\n",
    "\n",
    "    # Compare the median  price in the observations where data is missing\n",
    "    # vs the observations where data is available\n",
    "\n",
    "    # determine the median price in the groups 1 and 0,\n",
    "    # and the standard deviation of the price.\n",
    "    tmp = df.groupby(var)['price'].agg(['mean', 'std'])\n",
    "\n",
    "    # plot into a bar graph\n",
    "    tmp.plot(kind=\"barh\", y=\"mean\", legend=False,\n",
    "             xerr=\"std\", title=\"Sale Price\", color='red')\n",
    "\n",
    "    plt.show()\n",
    "\n",
    "for var in vars_with_na:\n",
    "    analyse_na_value(data, var)"
   ]
  },
  {
   "cell_type": "code",
   "execution_count": 132,
   "id": "5e5b07ce",
   "metadata": {},
   "outputs": [],
   "source": [
    "data['Construction Year'] = data['Construction Year'].fillna(0)"
   ]
  },
  {
   "cell_type": "code",
   "execution_count": 142,
   "id": "142dec7d",
   "metadata": {},
   "outputs": [
    {
     "data": {
      "text/plain": [
       "2019.0"
      ]
     },
     "execution_count": 142,
     "metadata": {},
     "output_type": "execute_result"
    }
   ],
   "source": [
    "data[(data['Construction Year']>1940) & (data['Project Type']=='G+2')]['Construction Year'].median()"
   ]
  },
  {
   "cell_type": "code",
   "execution_count": 149,
   "id": "655cb5ce",
   "metadata": {},
   "outputs": [],
   "source": [
    "data.loc[data['Construction Year']<1940,['Construction Year']] = data[data['Construction Year']>1940]['Construction Year'].median()"
   ]
  },
  {
   "cell_type": "code",
   "execution_count": 152,
   "id": "b2d40abf",
   "metadata": {},
   "outputs": [],
   "source": [
    "data['Parking'] = data['Parking'].fillna('no')"
   ]
  },
  {
   "cell_type": "code",
   "execution_count": 154,
   "id": "9559a97e",
   "metadata": {},
   "outputs": [],
   "source": [
    "data['Swimming Pool'] = data['Swimming Pool'].fillna('no')"
   ]
  },
  {
   "cell_type": "code",
   "execution_count": 156,
   "id": "6a128d5d",
   "metadata": {},
   "outputs": [],
   "source": [
    "data['Toilet(s)'] = data['Toilet(s)'].fillna(0)"
   ]
  },
  {
   "cell_type": "code",
   "execution_count": 157,
   "id": "51845d04",
   "metadata": {},
   "outputs": [],
   "source": [
    "data['Air-con'] = data['Air-con'].fillna(0)"
   ]
  },
  {
   "cell_type": "code",
   "execution_count": 159,
   "id": "0249dc8f",
   "metadata": {},
   "outputs": [],
   "source": [
    "data['Beachfront'] = data['Beachfront'].fillna('no')"
   ]
  },
  {
   "cell_type": "code",
   "execution_count": 161,
   "id": "0bdab043",
   "metadata": {},
   "outputs": [],
   "source": [
    "data['Bathroom(s)'] = data['Bathroom(s)'].fillna(data['Bathroom(s)'].median())"
   ]
  },
  {
   "cell_type": "code",
   "execution_count": 170,
   "id": "40bf4be0",
   "metadata": {},
   "outputs": [],
   "source": [
    "med_interior = []\n",
    "for htyp in data['htype'].unique():\n",
    "    med_interior.append(data[data['htype']==htyp]['Interior Surface New'].median())\n",
    "    #data[data['htype']==htyp]['Interior Surface New'] = data[data['htype']==htyp]['Interior Surface New'].fillna(data[data['htype']==htyp]['Interior Surface New'].median())"
   ]
  },
  {
   "cell_type": "code",
   "execution_count": 171,
   "id": "b3fb68f6",
   "metadata": {},
   "outputs": [
    {
     "data": {
      "text/plain": [
       "[228.0, 278.7, 133.0, 162.0]"
      ]
     },
     "execution_count": 171,
     "metadata": {},
     "output_type": "execute_result"
    }
   ],
   "source": [
    "med_interior"
   ]
  },
  {
   "cell_type": "code",
   "execution_count": 172,
   "id": "6b05f5b2",
   "metadata": {},
   "outputs": [],
   "source": [
    "data['Interior Surface New'] = data['Interior Surface New'].fillna(0)"
   ]
  },
  {
   "cell_type": "code",
   "execution_count": 178,
   "id": "6e3576df",
   "metadata": {},
   "outputs": [],
   "source": [
    "for htyp,meds in zip(data['htype'].unique(),med_interior):\n",
    "    data.loc[(data['htype']==htyp)&(data['Interior Surface New']==0), ['Interior Surface New']] = meds"
   ]
  },
  {
   "cell_type": "code",
   "execution_count": 183,
   "id": "7d7ea14e",
   "metadata": {},
   "outputs": [],
   "source": [
    "med_land = []\n",
    "for htyp in data['htype'].unique():\n",
    "    med_land.append(data[data['htype']==htyp]['Land Surface New'].median())"
   ]
  },
  {
   "cell_type": "code",
   "execution_count": 184,
   "id": "df51bd64",
   "metadata": {},
   "outputs": [
    {
     "data": {
      "text/plain": [
       "[nan, 675.4, nan, 262.0]"
      ]
     },
     "execution_count": 184,
     "metadata": {},
     "output_type": "execute_result"
    }
   ],
   "source": [
    "med_land"
   ]
  },
  {
   "cell_type": "code",
   "execution_count": 185,
   "id": "11b2a342",
   "metadata": {},
   "outputs": [],
   "source": [
    "med_land[0] = 0\n",
    "med_land[2] = 0"
   ]
  },
  {
   "cell_type": "code",
   "execution_count": 186,
   "id": "1909dc12",
   "metadata": {},
   "outputs": [],
   "source": [
    "data['Land Surface New'] = data['Land Surface New'].fillna(0)\n",
    "\n",
    "for htyp,meds in zip(data['htype'].unique(),med_land):\n",
    "    data.loc[(data['htype']==htyp)&(data['Land Surface New']==0), ['Land Surface New']] = meds"
   ]
  },
  {
   "cell_type": "code",
   "execution_count": 187,
   "id": "b03c74a0",
   "metadata": {},
   "outputs": [],
   "source": [
    "data.to_csv('mauritius_house_train.csv',index=False)"
   ]
  },
  {
   "cell_type": "code",
   "execution_count": null,
   "id": "69e7ca9b",
   "metadata": {},
   "outputs": [],
   "source": []
  },
  {
   "cell_type": "code",
   "execution_count": null,
   "id": "0c4bf8d9",
   "metadata": {},
   "outputs": [],
   "source": []
  },
  {
   "cell_type": "code",
   "execution_count": null,
   "id": "b0217bf6",
   "metadata": {},
   "outputs": [],
   "source": []
  },
  {
   "cell_type": "code",
   "execution_count": null,
   "id": "e4e40b95",
   "metadata": {},
   "outputs": [],
   "source": []
  }
 ],
 "metadata": {
  "kernelspec": {
   "display_name": "Python 3",
   "language": "python",
   "name": "python3"
  },
  "language_info": {
   "codemirror_mode": {
    "name": "ipython",
    "version": 3
   },
   "file_extension": ".py",
   "mimetype": "text/x-python",
   "name": "python",
   "nbconvert_exporter": "python",
   "pygments_lexer": "ipython3",
   "version": "3.8.8"
  }
 },
 "nbformat": 4,
 "nbformat_minor": 5
}
